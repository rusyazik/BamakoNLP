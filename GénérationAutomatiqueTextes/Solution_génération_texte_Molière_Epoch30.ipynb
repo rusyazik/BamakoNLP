{
 "cells": [
  {
   "cell_type": "markdown",
   "metadata": {
    "colab_type": "text",
    "id": "t09eeeR5prIJ"
   },
   "source": [
    "##### Copyright 2019 The TensorFlow Authors."
   ]
  },
  {
   "cell_type": "code",
   "execution_count": 1,
   "metadata": {
    "cellView": "form",
    "colab": {},
    "colab_type": "code",
    "id": "GCCk8_dHpuNf"
   },
   "outputs": [],
   "source": [
    "#@title Licensed under the Apache License, Version 2.0 (the \"License\");\n",
    "# you may not use this file except in compliance with the License.\n",
    "# You may obtain a copy of the License at\n",
    "#\n",
    "# https://www.apache.org/licenses/LICENSE-2.0\n",
    "#\n",
    "# Unless required by applicable law or agreed to in writing, software\n",
    "# distributed under the License is distributed on an \"AS IS\" BASIS,\n",
    "# WITHOUT WARRANTIES OR CONDITIONS OF ANY KIND, either express or implied.\n",
    "# See the License for the specific language governing permissions and\n",
    "# limitations under the License."
   ]
  },
  {
   "cell_type": "markdown",
   "metadata": {
    "colab_type": "text",
    "id": "ovpZyIhNIgoq"
   },
   "source": [
    "# Génération de texte avec un RNN"
   ]
  },
  {
   "cell_type": "markdown",
   "metadata": {},
   "source": [
    "Ce tutoriel explique comment générer du texte à l'aide d'un RNN basé sur des caractères. Nous allons travailler avec un \n",
    "ensemble de données de l'écriture de Molière tirée de Project Gutenberg (http://www.gutenberg.org). Étant donné une séquence de \n",
    "caractères, entraînez un modèle pour prédire le prochain caractère de la séquence. Par exemple, si nous sommes donnés la \n",
    "séquence de caractères \"Molièr\", prédire le prochain caractère tel que \"e\". Des séquences de texte plus longues peuvent être \n",
    "générées en appelant le modèle à plusieurs reprises.\n",
    "\n",
    "Activez l'accélération GPU pour exécuter ce notebook plus rapidement. Dans Colab: *Runtime > Change runtime type > Hardware \n",
    "acclerator > GPU*.\n",
    "\n",
    "Ce tutoriel comprend du code de [tf.keras] (https://www.tensorflow.org/programmers_guide/keras) et de [eager execution] \n",
    "(https://www.tensorflow.org/programmers_guide/eager). Voici un exemple de sortie lorsque le modèle de ce tutoriel a été \n",
    "entraîné pour 30 époques et a démarré avec la chaîne de caractères \"Q\":\n",
    "\n",
    "<pre>\n",
    "    DON PÈDRE.\n",
    "\n",
    "    Il est vrai, ma fille, vous représentez un peu la conscience,\n",
    "      Gardez qu'on accommoder sur ce moment comme lui.\n",
    "\n",
    "        SOSIE.\n",
    "\n",
    "                  Me voilà donc, monsieur, d'une âme:\n",
    "        Tous deux également tendent toute l'amour que cela pourra done.\n",
    "\n",
    "    SCÈNE III.--DON JUAN, SGANARELLE.\n",
    "\n",
    "    DON JUAN.\n",
    "\n",
    "    Me fera-t-on l'âme te fait? J'ai voulu se tacevoir tout nu, puisque tu puis voir accepter votre petits vertus,\n",
    "    Qui me fait souffrir qu'un tour exemplaisir;\n",
    "      Et ce choix démentir maître un certe montsir Oronte, Dupa chose;\n",
    "    Et, tandis qu'à cause les plus grands médecins tous les diables. Et mous offrir médecins et indivertirs son\n",
    "    nennence de sa façon.\n",
    "\n",
    "  MARPHURIUS.\n",
    "\n",
    "  Assurément; mais mon cher marquis, je ne l'équez vous plaire;\n",
    "    Ces grands satyres affreux des chanses le plus vite que vous avez\n",
    "    que je me sers avec grands merveilles; et c'est là votre personne en mêle,\n",
    "    Des lui soient prévenus de la beauté du ciel;\n",
    "     Dander de la belle parole; je suis assez humani.\n",
    "    Je serai cette prière raison d'être médecine?\n",
    "\n",
    "    SGANARELLE.\n",
    "\n",
    "    Ce vie embarrasser qu'on n\n",
    "</pre>\n",
    "\n",
    "Bien que certaines phrases soient grammaticales, la plupart n’ont pas de sens. Le modèle n'a pas appris le sens des mots, mais \n",
    "considérez:\n",
    "\n",
    "* Le modèle est basé sur les caractères. Lorsque la formation a commencé, le modèle ne savait pas comment épeler un mot \n",
    "français, ni que ces mots constituaient même une unité de texte.\n",
    "\n",
    "* La structure de la sortie ressemble aux blocs de texte dans une pièce commencent généralement par un nom de locuteur, en \n",
    "toutes lettres majuscules, similaire à l'ensemble de données.\n",
    "\n",
    "* Comme illustré ci-dessous, le modèle est entraîné sur les petites séquences de texte (100 caractères chacun), mais est \n",
    "capable de générer une séquence de texte plus longue avec une structure cohérente."
   ]
  },
  {
   "cell_type": "markdown",
   "metadata": {
    "colab_type": "text",
    "id": "srXC6pLGLwS6"
   },
   "source": [
    "## Préparatifs"
   ]
  },
  {
   "cell_type": "markdown",
   "metadata": {
    "colab_type": "text",
    "id": "WGyKZj3bzf9p"
   },
   "source": [
    "### Importer TensorFlow et d'autres bibliotheques (libraries)"
   ]
  },
  {
   "cell_type": "code",
   "execution_count": 2,
   "metadata": {
    "colab": {},
    "colab_type": "code",
    "id": "yG_n40gFzf9s"
   },
   "outputs": [],
   "source": [
    "from __future__ import absolute_import, division, print_function, unicode_literals\n",
    "\n",
    "try:\n",
    "  # %tensorflow_version only exists in Colab.\n",
    "  %tensorflow_version 2.x\n",
    "except Exception:\n",
    "  pass\n",
    "import tensorflow as tf\n",
    "\n",
    "import numpy as np\n",
    "import os\n",
    "import time"
   ]
  },
  {
   "cell_type": "code",
   "execution_count": 3,
   "metadata": {
    "colab": {},
    "colab_type": "code",
    "id": "9SjzENFRUA2V"
   },
   "outputs": [],
   "source": [
    "#from google.colab import files\n",
    "#!mkdir data\n",
    "#%cd data\n",
    "#upload = files.upload()\n",
    "#%cd ..\n",
    "\n",
    "try:\n",
    "  tf.enable_eager_execution()\n",
    "except Exception:\n",
    "  pass"
   ]
  },
  {
   "cell_type": "markdown",
   "metadata": {
    "colab_type": "text",
    "id": "EHDoRoc5PKWz"
   },
   "source": [
    "### Telecharger les données de Shakespeare\n",
    "\n",
    "Vous pouvez modifier la ligne suivante pour exécuter ce code sur vos propres données."
   ]
  },
  {
   "cell_type": "code",
   "execution_count": 4,
   "metadata": {
    "colab": {},
    "colab_type": "code",
    "id": "pD_55cOxLkAb"
   },
   "outputs": [],
   "source": [
    "# lire le fichier de l'internet, utilisez le code suivant si vous avez un version local du fichier\n",
    "# path_to_file = tf.keras.utils.get_file('molière.txt', 'https://gdurl.com/VYKa')\n",
    "\n",
    "# lire le fichier local\n",
    "path_to_file = 'data/molière50000.txt'"
   ]
  },
  {
   "cell_type": "markdown",
   "metadata": {
    "colab_type": "text",
    "id": "UHjdCjDuSvX_"
   },
   "source": [
    "### Lire les données\n",
    "\n",
    "Jetez un coup d'œil sur le texte"
   ]
  },
  {
   "cell_type": "code",
   "execution_count": 6,
   "metadata": {
    "colab": {},
    "colab_type": "code",
    "id": "aavnuByVymwK",
    "scrolled": true
   },
   "outputs": [
    {
     "name": "stdout",
     "output_type": "stream",
     "text": [
      "Length of text: 1443686 characters\n"
     ]
    }
   ],
   "source": [
    "text = open(path_to_file, 'rb').read().decode(encoding='utf-8')\n",
    "print ('Length of text: {} characters'.format(len(text)))"
   ]
  },
  {
   "cell_type": "code",
   "execution_count": 7,
   "metadata": {
    "colab": {},
    "colab_type": "code",
    "id": "Duhg9NrUymwO"
   },
   "outputs": [
    {
     "name": "stdout",
     "output_type": "stream",
     "text": [
      "    VALÈRE.\r\n",
      "\r\n",
      "                  Mais quoi! l'honneur de vous connoître\r\n",
      "    Est un si grand bonheur, est un si doux plaisir,\r\n",
      "    Que de vous saluer j'avois un grand désir.\r\n",
      "\r\n",
      "    SGANARELLE.\r\n",
      "\r\n",
      "    Soit.\r\n",
      "\r\n",
      "    VALÈRE.\r\n",
      "\r\n",
      "          Et de vous venir, mais sans nul artifice,\r\n",
      "    Assurer que je suis tout à votre service.\r\n",
      "\r\n",
      "    SGANARELLE.\r\n",
      "\r\n",
      "    Je le crois.\r\n",
      "\r\n",
      "    VALÈRE.\r\n",
      "\r\n",
      "                 J'ai le bien d'être de vos voisins,\r\n",
      "    Et j'en dois rendre grâce à mes heureux destins.\r\n",
      "\r\n",
      "    SGANAR\n"
     ]
    }
   ],
   "source": [
    "# Regardez les premièrs 500 caractères dans le texte\n",
    "print(text[:500])"
   ]
  },
  {
   "cell_type": "markdown",
   "metadata": {
    "colab_type": "text",
    "id": "YiLeWTyxUA2j"
   },
   "source": [
    "**Tâche 1 (Caractères Features)** Selectionnez et triez les features (caractères uniques)."
   ]
  },
  {
   "cell_type": "code",
   "execution_count": 8,
   "metadata": {
    "colab": {},
    "colab_type": "code",
    "id": "IlCgQBRVymwR"
   },
   "outputs": [
    {
     "name": "stdout",
     "output_type": "stream",
     "text": [
      "93 unique characters\n"
     ]
    }
   ],
   "source": [
    "# trouvez tous les caractères uniques dans le texte\n",
    "vocab = sorted(set(text))\n",
    "# vocab = #######  Votre code ici #######\n",
    "print ('{} unique characters'.format(len(vocab)))"
   ]
  },
  {
   "cell_type": "markdown",
   "metadata": {
    "colab_type": "text",
    "id": "rNnrKn_lL-IJ"
   },
   "source": [
    "## Traiter le texte"
   ]
  },
  {
   "cell_type": "markdown",
   "metadata": {
    "colab_type": "text",
    "id": "LFjSVAlWzf-N"
   },
   "source": [
    "### Vectoriser le texte\n",
    "\n",
    "Afin de préparer pour l'étape d'entraînement, nous devons convertir les chaînes de caractères à une représentation numérique. Créez deux lookup tables (table de correspondance): une mappant des caractères aux nombres et une autre pour des nombres aux caractères."
   ]
  },
  {
   "cell_type": "code",
   "execution_count": 9,
   "metadata": {
    "colab": {},
    "colab_type": "code",
    "id": "IalZLbvOzf-F"
   },
   "outputs": [],
   "source": [
    "# Creating a mapping from unique characters to indices\n",
    "char2idx = {u:i for i, u in enumerate(vocab)}\n",
    "idx2char = np.array(vocab)"
   ]
  },
  {
   "cell_type": "markdown",
   "metadata": {
    "colab_type": "text",
    "id": "iMFzXhFmUA2q"
   },
   "source": [
    "**Tâche 2 (Préparez le texte)**  Convertissez les caractères du texte en valeurs entières."
   ]
  },
  {
   "cell_type": "code",
   "execution_count": 10,
   "metadata": {
    "colab": {},
    "colab_type": "code",
    "id": "HH-5cVQkUA2q"
   },
   "outputs": [],
   "source": [
    "text_as_int = np.array([char2idx[c] for c in text])\n",
    "# text_as_int = np.array( ####### Votre code ici ####### )"
   ]
  },
  {
   "cell_type": "code",
   "execution_count": 11,
   "metadata": {
    "colab": {},
    "colab_type": "code",
    "id": "FYyNlCNXymwY"
   },
   "outputs": [
    {
     "name": "stdout",
     "output_type": "stream",
     "text": [
      "{\n",
      "  '\\n':   0,\n",
      "  '\\r':   1,\n",
      "  ' ' :   2,\n",
      "  '!' :   3,\n",
      "  \"'\" :   4,\n",
      "  '(' :   5,\n",
      "  ')' :   6,\n",
      "  ',' :   7,\n",
      "  '-' :   8,\n",
      "  '.' :   9,\n",
      "  '0' :  10,\n",
      "  '1' :  11,\n",
      "  '2' :  12,\n",
      "  '4' :  13,\n",
      "  '5' :  14,\n",
      "  '6' :  15,\n",
      "  '8' :  16,\n",
      "  ':' :  17,\n",
      "  ';' :  18,\n",
      "  '?' :  19,\n",
      "  ...\n",
      "}\n"
     ]
    }
   ],
   "source": [
    "print('{')\n",
    "for char,_ in zip(char2idx, range(20)):\n",
    "    print('  {:4s}: {:3d},'.format(repr(char), char2idx[char]))\n",
    "print('  ...\\n}')"
   ]
  },
  {
   "cell_type": "code",
   "execution_count": 12,
   "metadata": {
    "colab": {},
    "colab_type": "code",
    "id": "l1VKcQHcymwb"
   },
   "outputs": [
    {
     "name": "stdout",
     "output_type": "stream",
     "text": [
      "'    VALÈRE.\\r\\n' ---- characters mapped to int ---- > [ 2  2  2  2 40 20 30 73 36 24  9  1  0]\n",
      "', SBRIGANI.\\r\\n' ---- characters mapped to int ---- > [ 7  2 37 21 36 28 26 20 32 28  9  1  0]\n"
     ]
    }
   ],
   "source": [
    "# Montrez comment les 13 premiers caractères du texte sont mappés à des valeurs entières\n",
    "print ('{} ---- characters mapped to int ---- > {}'.format(repr(text[:13]), text_as_int[:13]))\n",
    "# Montrez comment les 13 derniers caractères du texte sont mappés à des valeurs entières\n",
    "print ('{} ---- characters mapped to int ---- > {}'.format(repr(text[-13:]), text_as_int[-13:]))"
   ]
  },
  {
   "cell_type": "markdown",
   "metadata": {
    "colab_type": "text",
    "id": "bbmsf23Bymwe"
   },
   "source": [
    "### La prévision par caractère"
   ]
  },
  {
   "cell_type": "markdown",
   "metadata": {
    "colab_type": "text",
    "id": "wssHQ1oGymwe"
   },
   "source": [
    "Étant donné un caractère ou une séquence de caractères, quel est le caractère suivant le plus probable? C'est la tâche que nous entraînerons le modèle à effectuer. L'entrée au modèle sera une séquence de caractères, et nous apprenons au modèle à prédire la sortie - le caractère suivant à chaque pas de temps.\n",
    "\n",
    "Plus précisément pour le RNN, puisque les RNN maintiennent un état interne qui dépend des éléments vus précédemment, la tâche se propose comme : étant donné tous les caractères calculés jusqu'à ce moment, quel est le prochain caractère ?\n"
   ]
  },
  {
   "cell_type": "markdown",
   "metadata": {
    "colab_type": "text",
    "id": "hgsVvVxnymwf"
   },
   "source": [
    "### Créer des textes pour l'entraînement et ses cibles (les bonnes réponses)\n",
    "\n",
    "Divisez le texte en séquences. Chaque séquence d'entrée contiendra les caractères `seq_length` du texte.\n",
    "\n",
    "Pour chaque séquence d'entrée, les cibles correspondantes contiennent la même longueur de texte, à l'exception du caractère décalé d'un caractère vers la droite.\n",
    "\n",
    "Donc, divisez le texte en morceaux de `seq_length + 1`. Par exemple, disons `seq_length` vaut 4 et notre texte est \"Hello\". La séquence d'entrée serait \"Hell\" et la séquence cible \"ello\".\n",
    "\n",
    "D’abord, nous utiliserons la fonction `tf.data.Dataset.from_tensor_slices` pour convertir le vecteur de texte en un flux (stream) d’index de caractères."
   ]
  },
  {
   "cell_type": "markdown",
   "metadata": {
    "colab_type": "text",
    "id": "54GMIBZiUA2z"
   },
   "source": [
    "**Tâche 3 (Datasets)**"
   ]
  },
  {
   "cell_type": "code",
   "execution_count": 13,
   "metadata": {
    "colab": {},
    "colab_type": "code",
    "id": "0UHJDA39zf-O"
   },
   "outputs": [
    {
     "name": "stdout",
     "output_type": "stream",
     "text": [
      "Eager execution enabled?  True\n",
      " \n",
      " \n",
      " \n",
      " \n",
      "V\n"
     ]
    }
   ],
   "source": [
    "# **seq_length** La longueur maximale en caractères de la phrase pour une seule entrée\n",
    "seq_length = 100\n",
    "examples_per_epoch = len(text)//(seq_length+1)\n",
    "\n",
    "# Créez morceaux de texte pour l'entraînement et les cibles\n",
    "# char_dataset = ### VOTRE CODE ICI Créez le Dataset char_dataset des tensor slices (le texte vectorisé) ###\n",
    "char_dataset = tf.data.Dataset.from_tensor_slices(text_as_int)\n",
    "\n",
    "print('Eager execution enabled?  ' + str(tf.executing_eagerly()))\n",
    "\n",
    "# .Numpy peut être utiliser uniquement en mode eager. En mode graphique, vous devez utiliser\n",
    "# eval dans une session pour obtenir la valeur du tenseur dans le tableau numpy.\n",
    "if tf.executing_eagerly() :\n",
    "#    for i ### VOTRE CODE ICI Imprimez les premiers 5 éléments du Dataset pour l'entraînement ###\n",
    "    for i in char_dataset.take(5):        \n",
    "        print(idx2char[i.numpy()])\n",
    "else :\n",
    "    iter = char_dataset.make_one_shot_iterator()\n",
    "    with tf.Session() as sess:\n",
    "        for x in range(0,5):\n",
    "            print(idx2char[(sess.run(iter.get_next()))])"
   ]
  },
  {
   "cell_type": "markdown",
   "metadata": {
    "colab_type": "text",
    "id": "-ZSYAcQV8OGP"
   },
   "source": [
    "La méthode `batch` combine des éléments consécutifs d'un Dataset en lots (batch). Cela nous permet de convertir facilement des caractères individuels en séquences de la taille souhaitée **seq_length+1**."
   ]
  },
  {
   "cell_type": "code",
   "execution_count": 14,
   "metadata": {
    "colab": {},
    "colab_type": "code",
    "id": "l4hkDU3i7ozi"
   },
   "outputs": [
    {
     "name": "stdout",
     "output_type": "stream",
     "text": [
      "\"    VALÈRE.\\r\\n\\r\\n                  Mais quoi! l'honneur de vous connoître\\r\\n    Est un si grand bonheur,\"\n",
      "\" est un si doux plaisir,\\r\\n    Que de vous saluer j'avois un grand désir.\\r\\n\\r\\n    SGANARELLE.\\r\\n\\r\\n    So\"\n",
      "'it.\\r\\n\\r\\n    VALÈRE.\\r\\n\\r\\n          Et de vous venir, mais sans nul artifice,\\r\\n    Assurer que je suis to'\n",
      "\"ut à votre service.\\r\\n\\r\\n    SGANARELLE.\\r\\n\\r\\n    Je le crois.\\r\\n\\r\\n    VALÈRE.\\r\\n\\r\\n                 J'ai le\"\n",
      "\" bien d'être de vos voisins,\\r\\n    Et j'en dois rendre grâce à mes heureux destins.\\r\\n\\r\\n    SGANARELLE.\"\n"
     ]
    }
   ],
   "source": [
    "# sequences = ### VOTRE CODE ICI Combine des éléments (batch) du Dataset d'entraînement. Utilisez la taille seq_length+1 et\n",
    "# assurez que tous les batch (le dernier compris) ont la même taille. ###\n",
    "sequences = char_dataset.batch(seq_length+1, drop_remainder=True)\n",
    "\n",
    "# for item ### VOTRE CODE ICI Imprimez les premières 5 séquences ###\n",
    "for item in sequences.take(5):\n",
    "  print(repr(''.join(idx2char[item.numpy()])))"
   ]
  },
  {
   "cell_type": "markdown",
   "metadata": {
    "colab_type": "text",
    "id": "UbLcIPBj_mWZ"
   },
   "source": [
    "**map** exécute des fonctions sur les éléments de le dataset et renvoie un nouvel dataset contenant les éléments transformés, dans le même ordre de l'entrée.\n",
    "Pour chaque séquence, dupliquez-la et décalez-la d'un caractère pour créer le texte d'entrée et le texte cible en utilisant la méthode `map` pour appliquer l'objet split_input_target aux séquences déjà découpées en tranches."
   ]
  },
  {
   "cell_type": "markdown",
   "metadata": {
    "colab_type": "text",
    "id": "cU3RcwmOUA26"
   },
   "source": [
    "**Tâche 3** Créez le texte d'entrée et son texte cible (la bonne réponse), les données d'entraînement (train)."
   ]
  },
  {
   "cell_type": "code",
   "execution_count": 15,
   "metadata": {
    "colab": {},
    "colab_type": "code",
    "id": "9NGu-FkO_kYU"
   },
   "outputs": [],
   "source": [
    "def split_input_target(chunk):\n",
    "#    input_text = ####### Votre code ici #######\n",
    "#    target_text = ####### Votre code ici #######\n",
    "    input_text = chunk[:-1]\n",
    "    target_text = chunk[1:]    \n",
    "    return input_text, target_text\n",
    "\n",
    "# dataset = ### VOTRE CODE ICI Utilisez le method map pour exécuter la fonction split_input_target afin de transformer \n",
    "# les séquences en nouvelles séquences décaler par un caractère\n",
    "dataset = sequences.map(split_input_target)"
   ]
  },
  {
   "cell_type": "markdown",
   "metadata": {
    "colab_type": "text",
    "id": "hiCopyGZymwi"
   },
   "source": [
    "**Tâche 4 Compréhension**\n",
    "Imprimer la première séquence : le texte d'entrée et le texte ciblé. Assurez-vous que vous comprenez au-dessous comment la fonction split_input_target est exécutée sur le premier élément du Dataset dataset afin de produire les deux chaînes de caractères."
   ]
  },
  {
   "cell_type": "code",
   "execution_count": 16,
   "metadata": {
    "colab": {},
    "colab_type": "code",
    "id": "GNbw-iR0ymwj"
   },
   "outputs": [
    {
     "name": "stdout",
     "output_type": "stream",
     "text": [
      "Input data:  \"    VALÈRE.\\r\\n\\r\\n                  Mais quoi! l'honneur de vous connoître\\r\\n    Est un si grand bonheur\"\n",
      "Target data: \"   VALÈRE.\\r\\n\\r\\n                  Mais quoi! l'honneur de vous connoître\\r\\n    Est un si grand bonheur,\"\n"
     ]
    }
   ],
   "source": [
    "for input_example, target_example in  dataset.take(1):\n",
    "  print ('Input data: ', repr(''.join(idx2char[input_example.numpy()])))\n",
    "  print ('Target data:', repr(''.join(idx2char[target_example.numpy()])))"
   ]
  },
  {
   "cell_type": "markdown",
   "metadata": {
    "colab_type": "text",
    "id": "_33OHL3b84i0"
   },
   "source": [
    "Chaque elément (@index) de ces vecteurs est traité comme un pas de temps. Pour l'entrée au pas de temps 0, le modèle reçoit l'index pour la toute première lettre \"F\" et essaie de prédire l'indice pour \"i\" en tant que caractère suivant. Au pas de temps suivant, il fait la même chose mais le `RNN` considère le contexte de l’étape précédente en plus du caractère d’entrée actuel.\n",
    "\n",
    "Nous imprimons les premiers 5 étapes avec la lettre d'entrée (pas de temp n) et la lettre prédite (pas de temp n+1)"
   ]
  },
  {
   "cell_type": "code",
   "execution_count": 17,
   "metadata": {
    "colab": {},
    "colab_type": "code",
    "id": "0eBu9WZG84i0"
   },
   "outputs": [
    {
     "name": "stdout",
     "output_type": "stream",
     "text": [
      "Step    0\n",
      "  input: 2 (' ')\n",
      "  expected output: 2 (' ')\n",
      "Step    1\n",
      "  input: 2 (' ')\n",
      "  expected output: 2 (' ')\n",
      "Step    2\n",
      "  input: 2 (' ')\n",
      "  expected output: 2 (' ')\n",
      "Step    3\n",
      "  input: 2 (' ')\n",
      "  expected output: 40 ('V')\n",
      "Step    4\n",
      "  input: 40 ('V')\n",
      "  expected output: 20 ('A')\n"
     ]
    }
   ],
   "source": [
    "for i, (input_idx, target_idx) in enumerate(zip(input_example[:5], target_example[:5])):\n",
    "    print(\"Step {:4d}\".format(i))\n",
    "    print(\"  input: {} ({:s})\".format(input_idx, repr(idx2char[input_idx])))\n",
    "    print(\"  expected output: {} ({:s})\".format(target_idx, repr(idx2char[target_idx])))"
   ]
  },
  {
   "cell_type": "markdown",
   "metadata": {
    "colab_type": "text",
    "id": "MJdfPmdqzf-R"
   },
   "source": [
    "### Créer des lots (batch) d'entraînement\n",
    "\n",
    "Utiliser `tf.data` pour scinder le texte en séquences gérables (batch). La taille des lots (BATCH_SIZE) est une paramètre relative à la performance, typiquement reposant sur l'expérience. Puis, nous allons mélanger (shuffle) les lots. En mélangeant les lots, on essaye de rendre l'entraînement plus robuste."
   ]
  },
  {
   "cell_type": "markdown",
   "metadata": {
    "colab_type": "text",
    "id": "DmdmpVQFUA3T"
   },
   "source": [
    "**Tâche 5** Scindez (batch), puis, mélangez (shuffle) les lots. Utilisez les methodes de tf.data.Dataset. Fixez la paramètre\n",
    "drop_remainder=True."
   ]
  },
  {
   "cell_type": "code",
   "execution_count": 18,
   "metadata": {
    "colab": {},
    "colab_type": "code",
    "id": "p2pGotuNzf-S"
   },
   "outputs": [
    {
     "data": {
      "text/plain": [
       "<DatasetV1Adapter shapes: ((64, 100), (64, 100)), types: (tf.int32, tf.int32)>"
      ]
     },
     "execution_count": 18,
     "metadata": {},
     "output_type": "execute_result"
    }
   ],
   "source": [
    "# Taille de lots en octets\n",
    "BATCH_SIZE = 64\n",
    "\n",
    "# Taille du tampon utilisé pour mélanger les lots en octets\n",
    "BUFFER_SIZE = 10000\n",
    "\n",
    "dataset = dataset.shuffle(BUFFER_SIZE).batch(BATCH_SIZE, drop_remainder=True)\n",
    "# dataset = ####### VOTRE CODE ICI #######\n",
    "\n",
    "dataset"
   ]
  },
  {
   "cell_type": "markdown",
   "metadata": {
    "colab_type": "text",
    "id": "r6oUuElIMgVx"
   },
   "source": [
    "## Construire le modèle"
   ]
  },
  {
   "cell_type": "markdown",
   "metadata": {
    "colab_type": "text",
    "id": "m8gPwEjRzf-Z"
   },
   "source": [
    "**Tâche 6** Ecrivez le code pour le fonction build_model en bas.\n",
    "Utilisez `tf.keras.Sequential` pour définir le modèle. Pour notre projet, trois couches (layers) sont utilisées pour définir notre modèle:\n",
    "\n",
    "* `tf.keras.layers.Embedding`: La couche d'entrée. Une table de consultation (lookup table) utiliser pour mapper les numéros de chaque caractère à un vecteur de dimensions `embedding_dim`;\n",
    "* `tf.keras.layers.GRU`: Un RNN de taille `units=rnn_units`\n",
    "* `tf.keras.layers.Dense`: La couche de sortie, avec `vocab_size` pour la dimension de la sortie .\n",
    "Les astuces sont données en bas pour configuer les paramètres pour chaque couche.\n",
    "\n",
    "Pour chaque caractère, le modèle trouve l'embedding, exécute GRU un seul pas de temps avec l'embedding en tant qu'entrée et applique la couche dense pour générer des logits (numéro réel) prédisant le log-likelihood (probabilité) du caractère suivant."
   ]
  },
  {
   "cell_type": "code",
   "execution_count": 19,
   "metadata": {
    "colab": {},
    "colab_type": "code",
    "id": "zHT8cLh7EAsg"
   },
   "outputs": [],
   "source": [
    "# Taille du vocabulaire en caractères\n",
    "vocab_size = len(vocab)\n",
    "\n",
    "# La dimension de la couche d'entrée Embedding.\n",
    "embedding_dim = 256\n",
    "\n",
    "# Nombre d'unités RNN\n",
    "rnn_units = 1024"
   ]
  },
  {
   "cell_type": "code",
   "execution_count": 20,
   "metadata": {
    "colab": {},
    "colab_type": "code",
    "id": "MtCrdfzEI2N0"
   },
   "outputs": [],
   "source": [
    "def build_model(vocab_size, embedding_dim, rnn_units, batch_size):\n",
    "  model = tf.keras.Sequential([\n",
    "    tf.keras.layers.Embedding(vocab_size, embedding_dim, \n",
    "                              batch_input_shape=[batch_size, None]),\n",
    "    tf.keras.layers.GRU(rnn_units,\n",
    "                        return_sequences=True,\n",
    "                        stateful=True,\n",
    "                        recurrent_initializer='glorot_uniform'),\n",
    "    tf.keras.layers.Dense(vocab_size)\n",
    "  ])\n",
    "  return model\n",
    "#def build_model(vocab_size, embedding_dim, rnn_units, batch_size):\n",
    "#    # Taille des séquences d'entrée\n",
    "#  Embedding_input_length = [batch_size, None]    \n",
    "#  # astuces paramétres Embedding layer\n",
    "#  #    Fixer la valeur de vocab_size, embedding_dim, et batch_input_shape=[batch_size, None]\n",
    "#  #    ne pas utiliser: embeddings_initializer, embeddings_regularizer, embeddings_constraint, mask_zero\n",
    "#  # astuces paramétres GRU Layer\n",
    "#  #    Fixez la valuer de rnn_units. Fixez return_sequences=True, stateful=True, recurrent_initializer='glorot_uniform'\n",
    "#  #    ne pas utiliser tous autres paramétres\n",
    "#  # astuces paramétres Dense Layer\n",
    "#  #    Fixez la valeur de units. Ne pas utiliser tous autres paramétres.\n",
    "#    model = ######## VOTRE CODE ICI #######\n",
    "#  return model"
   ]
  },
  {
   "cell_type": "code",
   "execution_count": 21,
   "metadata": {
    "colab": {},
    "colab_type": "code",
    "id": "wwsrpOik5zhv"
   },
   "outputs": [],
   "source": [
    "model = build_model(\n",
    "  vocab_size = len(vocab),\n",
    "  embedding_dim=embedding_dim,\n",
    "  rnn_units=rnn_units,\n",
    "  batch_size=BATCH_SIZE)"
   ]
  },
  {
   "cell_type": "markdown",
   "metadata": {
    "colab_type": "text",
    "id": "-ubPo0_9Prjb"
   },
   "source": [
    "## Essayer le modèle (avant l'entraînement)\n",
    "\n",
    "Le modèle peut être utilisé directement sans entraînement. On ne peut pas attendre les bons résultats, mais nous pouvons vérifier que le fonctionnement du modèle.\n",
    "\n",
    "La taille de séquence de l'entrée est 100 mais le modèle peut être exécuté sur des entrées de n'importe quelle taille.\n",
    "\n",
    "Nous exécutons le model sur la première séquence dans le Dataset (qui est aléatoire parce que nous avons effectué un \"shuffle\". Puis, nous imprimons le shape (dimensions) de la sortie (les prévisions). (Pourquoi ces dimensions?)"
   ]
  },
  {
   "cell_type": "code",
   "execution_count": 22,
   "metadata": {
    "colab": {},
    "colab_type": "code",
    "id": "C-_70kKAPrPU"
   },
   "outputs": [
    {
     "name": "stdout",
     "output_type": "stream",
     "text": [
      "(64, 100, 93) # (batch_size, sequence_length, vocab_size)\n"
     ]
    }
   ],
   "source": [
    "for input_example_batch, target_example_batch in dataset.take(1):\n",
    "  example_batch_predictions = model(input_example_batch)\n",
    "  print(example_batch_predictions.shape, \"# (batch_size, sequence_length, vocab_size)\")"
   ]
  },
  {
   "cell_type": "markdown",
   "metadata": {
    "colab_type": "text",
    "id": "U6o4zXmkUA3l"
   },
   "source": [
    "Maintenant, nous regardons à la structure du modèle. Nous voyons les dimensions de chaque couche (pourquoi ces dimensions?) et le nombre de paramètres entraînable dans chaque couche (ce numéro dépend sur la composition interne de la couche)."
   ]
  },
  {
   "cell_type": "code",
   "execution_count": 23,
   "metadata": {
    "colab": {},
    "colab_type": "code",
    "id": "vPGmAAXmVLGC"
   },
   "outputs": [
    {
     "name": "stdout",
     "output_type": "stream",
     "text": [
      "Model: \"sequential\"\n",
      "_________________________________________________________________\n",
      "Layer (type)                 Output Shape              Param #   \n",
      "=================================================================\n",
      "embedding (Embedding)        (64, None, 256)           23808     \n",
      "_________________________________________________________________\n",
      "gru (GRU)                    (64, None, 1024)          3935232   \n",
      "_________________________________________________________________\n",
      "dense (Dense)                (64, None, 93)            95325     \n",
      "=================================================================\n",
      "Total params: 4,054,365\n",
      "Trainable params: 4,054,365\n",
      "Non-trainable params: 0\n",
      "_________________________________________________________________\n"
     ]
    }
   ],
   "source": [
    "model.summary()"
   ]
  },
  {
   "cell_type": "markdown",
   "metadata": {
    "colab_type": "text",
    "id": "uwv0gEkURfx1"
   },
   "source": [
    "**example_batch_predictions** contient les probabilités (logits) initiales pour la chaîne de 100 caractères (_sequence_length_) dans les 64 chaînes (_batch_size_). Nous allons trouver les indices de caractères pour chaque prévision.\n",
    "\n",
    "Nous prenons les échantillons aléatoires (_random.categorical_). Ils sont les valeurs initiales pour démarrer l'entraînement.  Les valeurs sont trouvées aléatoirement et pas simplement par le _argmax_ de chaque lot (batch) afin que l'entraînement progresse bien vers un vrai minima (en raison de le comportement de gradient descent).\n",
    "\n",
    "Nous l'essayons pour le premier exemple dans les lots."
   ]
  },
  {
   "cell_type": "code",
   "execution_count": 24,
   "metadata": {
    "colab": {},
    "colab_type": "code",
    "id": "KQY0pCvWUA3r"
   },
   "outputs": [
    {
     "name": "stdout",
     "output_type": "stream",
     "text": [
      "64\n",
      "100\n",
      "tf.Tensor(\n",
      "[[[ 6.91796700e-03 -4.81686369e-03  5.80169354e-03 ...  8.91180534e-04\n",
      "    8.71576369e-03  1.14737367e-02]\n",
      "  [ 1.06651243e-02 -8.04523937e-03  9.07366443e-03 ... -1.00196723e-03\n",
      "    1.14420317e-02  1.76288877e-02]\n",
      "  [-9.69880261e-03 -6.50260691e-03  6.77416334e-03 ...  4.16109571e-03\n",
      "    6.94275601e-03  2.18349304e-02]\n",
      "  ...\n",
      "  [-5.99234505e-03 -5.33073861e-03 -5.11327712e-03 ... -1.20772058e-02\n",
      "    2.51080521e-04 -6.74794428e-03]\n",
      "  [-1.77461486e-02 -3.91830737e-03  4.56304289e-03 ... -4.01284196e-04\n",
      "   -3.16732959e-03  6.87833689e-03]\n",
      "  [-4.72973660e-03 -7.25232624e-03 -1.94557942e-05 ... -1.92286179e-03\n",
      "   -3.02941143e-03  9.66562517e-03]]\n",
      "\n",
      " [[ 3.02027632e-03 -8.24951334e-04 -1.67923905e-02 ... -2.05681706e-03\n",
      "    5.09790704e-03 -3.29531846e-03]\n",
      "  [-7.90944044e-03  5.16581442e-03 -1.90199241e-02 ...  9.82866809e-03\n",
      "    1.13448342e-02  4.45548352e-03]\n",
      "  [-5.11800218e-03 -5.49809542e-03 -1.46676805e-02 ...  3.67439282e-03\n",
      "    1.21212620e-02  2.16381531e-03]\n",
      "  ...\n",
      "  [ 7.41965324e-03 -5.70569793e-03 -1.13579240e-02 ...  3.75865330e-03\n",
      "   -5.39997499e-03  2.23518233e-03]\n",
      "  [-1.02756172e-02 -3.96165438e-03 -5.33965975e-03 ...  9.36360937e-03\n",
      "    1.14361371e-03  1.52869578e-02]\n",
      "  [ 1.23812882e-02  3.29401717e-03 -2.01006159e-02 ...  4.13412834e-03\n",
      "   -2.34826934e-03  1.30921304e-02]]\n",
      "\n",
      " [[-1.55441361e-02 -1.18466688e-03  1.60424807e-03 ...  8.44231993e-03\n",
      "    3.67527362e-03  1.22370860e-02]\n",
      "  [-1.56836994e-02 -2.70833285e-03  4.07734048e-03 ...  1.01020522e-02\n",
      "   -3.06521473e-03  8.85018439e-04]\n",
      "  [-1.27427727e-02  1.78008981e-03  1.66434445e-03 ...  6.68794848e-03\n",
      "   -1.06394300e-02 -1.40154222e-02]\n",
      "  ...\n",
      "  [-1.34340543e-02 -1.14189973e-03 -2.29740888e-03 ...  5.70091559e-03\n",
      "    1.13116426e-03 -8.35648365e-03]\n",
      "  [-1.14024542e-02  2.77163228e-03 -5.01660537e-03 ... -3.79406917e-03\n",
      "   -3.20388027e-03 -8.24790075e-03]\n",
      "  [-1.65302958e-03  1.21487901e-02  4.92236204e-03 ... -3.75337969e-03\n",
      "   -5.25758078e-04  1.07338920e-03]]\n",
      "\n",
      " ...\n",
      "\n",
      " [[ 1.49462023e-03 -5.45661524e-03 -7.54780928e-03 ... -5.18755696e-04\n",
      "   -4.14492143e-03  2.15403968e-03]\n",
      "  [ 7.17915967e-03 -1.62144424e-03 -4.22915956e-03 ... -1.92236772e-03\n",
      "   -4.33689030e-03  2.67655263e-03]\n",
      "  [ 1.03633022e-02 -2.34927190e-03 -6.83525577e-04 ... -4.26124595e-03\n",
      "   -5.13758417e-03  4.38209856e-03]\n",
      "  ...\n",
      "  [ 3.35045857e-03 -1.58406086e-02 -1.57880448e-02 ...  8.04986339e-03\n",
      "    1.39327217e-02 -1.08639384e-03]\n",
      "  [-1.87220937e-03 -1.52673656e-02 -7.94671290e-03 ... -4.22723498e-03\n",
      "    1.68906599e-02  2.61012861e-03]\n",
      "  [-1.00086322e-02 -3.69274151e-03 -1.54899573e-02 ...  6.52346853e-03\n",
      "    1.98819377e-02  6.38074521e-03]]\n",
      "\n",
      " [[-2.59200437e-03 -6.49599265e-03  2.17291899e-03 ... -9.17441957e-03\n",
      "    1.06671965e-02  6.71227556e-03]\n",
      "  [-1.36830239e-03 -8.48045945e-03 -5.56723028e-03 ... -7.09500117e-03\n",
      "    2.35009240e-03  6.94624754e-03]\n",
      "  [-8.23804364e-03 -4.43455251e-03 -1.17237004e-03 ... -1.33644138e-02\n",
      "    2.04175757e-03 -5.17767295e-03]\n",
      "  ...\n",
      "  [-7.65692443e-04 -7.97220506e-03 -1.93958264e-02 ... -7.43818237e-03\n",
      "    1.11715375e-02 -1.02729059e-03]\n",
      "  [ 2.20528687e-04 -5.50696068e-03 -1.71228144e-02 ... -6.83590956e-03\n",
      "    1.81309856e-03 -4.90594935e-03]\n",
      "  [-1.65481903e-02 -2.68398388e-03  1.23651570e-03 ...  1.67818822e-03\n",
      "   -1.93105533e-03  5.87625569e-03]]\n",
      "\n",
      " [[ 1.49462023e-03 -5.45661524e-03 -7.54780928e-03 ... -5.18755696e-04\n",
      "   -4.14492143e-03  2.15403968e-03]\n",
      "  [ 7.17915967e-03 -1.62144424e-03 -4.22915956e-03 ... -1.92236772e-03\n",
      "   -4.33689030e-03  2.67655263e-03]\n",
      "  [-2.69226125e-03 -3.36555997e-03  9.07637412e-04 ... -1.11469897e-02\n",
      "   -2.70844344e-03 -6.41982490e-03]\n",
      "  ...\n",
      "  [-7.28597399e-03 -7.30625167e-03  8.90031457e-03 ...  6.68246625e-03\n",
      "    9.18587111e-03  2.19892859e-02]\n",
      "  [-1.87940728e-02 -6.46064384e-03  5.94721967e-03 ...  9.57945362e-03\n",
      "    6.56312937e-03  2.42611859e-02]\n",
      "  [-2.64803693e-02 -5.03171701e-03  1.30214002e-02 ...  8.88331700e-03\n",
      "    2.43605013e-04  2.18174160e-02]]], shape=(64, 100, 93), dtype=float32)\n"
     ]
    }
   ],
   "source": [
    "print(len(example_batch_predictions))\n",
    "print(len(example_batch_predictions[0]))\n",
    "print(example_batch_predictions)"
   ]
  },
  {
   "cell_type": "code",
   "execution_count": 25,
   "metadata": {
    "colab": {},
    "colab_type": "code",
    "id": "4V4MfFg0RQJg"
   },
   "outputs": [],
   "source": [
    "sampled_indices = tf.random.categorical(example_batch_predictions[0], num_samples=1)"
   ]
  },
  {
   "cell_type": "code",
   "execution_count": 26,
   "metadata": {
    "colab": {},
    "colab_type": "code",
    "id": "gNr_-42sUA3y"
   },
   "outputs": [
    {
     "name": "stdout",
     "output_type": "stream",
     "text": [
      "100\n",
      "tf.Tensor(\n",
      "[[75]\n",
      " [46]\n",
      " [37]\n",
      " [86]\n",
      " [68]\n",
      " [69]\n",
      " [24]\n",
      " [81]\n",
      " [92]\n",
      " [52]\n",
      " [36]\n",
      " [28]\n",
      " [ 0]\n",
      " [ 0]\n",
      " [82]\n",
      " [90]\n",
      " [ 3]\n",
      " [20]\n",
      " [50]\n",
      " [34]\n",
      " [29]\n",
      " [69]\n",
      " [92]\n",
      " [62]\n",
      " [17]\n",
      " [ 8]\n",
      " [ 8]\n",
      " [76]\n",
      " [22]\n",
      " [ 0]\n",
      " [ 9]\n",
      " [43]\n",
      " [89]\n",
      " [10]\n",
      " [19]\n",
      " [27]\n",
      " [71]\n",
      " [91]\n",
      " [ 8]\n",
      " [40]\n",
      " [ 9]\n",
      " [53]\n",
      " [10]\n",
      " [90]\n",
      " [62]\n",
      " [72]\n",
      " [20]\n",
      " [30]\n",
      " [68]\n",
      " [53]\n",
      " [54]\n",
      " [ 7]\n",
      " [ 9]\n",
      " [79]\n",
      " [28]\n",
      " [70]\n",
      " [37]\n",
      " [79]\n",
      " [40]\n",
      " [77]\n",
      " [47]\n",
      " [ 5]\n",
      " [46]\n",
      " [83]\n",
      " [60]\n",
      " [54]\n",
      " [21]\n",
      " [22]\n",
      " [35]\n",
      " [38]\n",
      " [12]\n",
      " [86]\n",
      " [57]\n",
      " [54]\n",
      " [11]\n",
      " [26]\n",
      " [20]\n",
      " [11]\n",
      " [81]\n",
      " [68]\n",
      " [35]\n",
      " [75]\n",
      " [21]\n",
      " [38]\n",
      " [48]\n",
      " [ 4]\n",
      " [26]\n",
      " [91]\n",
      " [30]\n",
      " [39]\n",
      " [30]\n",
      " [43]\n",
      " [15]\n",
      " [25]\n",
      " [ 3]\n",
      " [92]\n",
      " [18]\n",
      " [56]\n",
      " [20]\n",
      " [68]], shape=(100, 1), dtype=int64)\n"
     ]
    }
   ],
   "source": [
    "print(len(sampled_indices))\n",
    "print(sampled_indices)"
   ]
  },
  {
   "cell_type": "markdown",
   "metadata": {
    "colab_type": "text",
    "id": "wQZqhEeWUA30"
   },
   "source": [
    "_squeeze_ pour faire une 1D _numpy_ tableau (array)"
   ]
  },
  {
   "cell_type": "code",
   "execution_count": 27,
   "metadata": {
    "colab": {},
    "colab_type": "code",
    "id": "1fKyOaJ3UA31"
   },
   "outputs": [],
   "source": [
    "sampled_indices = tf.squeeze(sampled_indices,axis=-1).numpy()"
   ]
  },
  {
   "cell_type": "markdown",
   "metadata": {
    "colab_type": "text",
    "id": "QM1Vbxs_URw5"
   },
   "source": [
    "Maintenant, pour chaque pas de temp, nous avons une prévision pour le prochain indice de caractère."
   ]
  },
  {
   "cell_type": "code",
   "execution_count": 28,
   "metadata": {
    "colab": {},
    "colab_type": "code",
    "id": "YqFMUQc_UFgM"
   },
   "outputs": [
    {
     "data": {
      "text/plain": [
       "array([75, 46, 37, 86, 68, 69, 24, 81, 92, 52, 36, 28,  0,  0, 82, 90,  3,\n",
       "       20, 50, 34, 29, 69, 92, 62, 17,  8,  8, 76, 22,  0,  9, 43, 89, 10,\n",
       "       19, 27, 71, 91,  8, 40,  9, 53, 10, 90, 62, 72, 20, 30, 68, 53, 54,\n",
       "        7,  9, 79, 28, 70, 37, 79, 40, 77, 47,  5, 46, 83, 60, 54, 21, 22,\n",
       "       35, 38, 12, 86, 57, 54, 11, 26, 20, 11, 81, 68, 35, 75, 21, 38, 48,\n",
       "        4, 26, 91, 30, 39, 30, 43, 15, 25,  3, 92, 18, 56, 20, 68],\n",
       "      dtype=int64)"
      ]
     },
     "execution_count": 28,
     "metadata": {},
     "output_type": "execute_result"
    }
   ],
   "source": [
    "sampled_indices"
   ]
  },
  {
   "cell_type": "markdown",
   "metadata": {
    "colab_type": "text",
    "id": "LfLtsP3mUhCG"
   },
   "source": [
    "Et convertir l'indice en caractère pour voir le texte prévu."
   ]
  },
  {
   "cell_type": "code",
   "execution_count": 29,
   "metadata": {
    "colab": {},
    "colab_type": "code",
    "id": "xWcFwPwLSo05"
   },
   "outputs": [
    {
     "name": "stdout",
     "output_type": "stream",
     "text": [
      "Input: \n",
      " \"llez, j'étois trop dupe, et je vais ne plus l'être;\\r\\n      Vous me faites un bien, me faisant vous c\"\n",
      "\n",
      "Next Char Predictions: \n",
      " \"ÊaSîyzEèœgRI\\n\\néù!AePJzœr:--ÏC\\n.Zô0?H»û-V.h0ùrÇALyhi,.æI«SæVàb(aêpiBCQT2îmi1GA1èyQÊBTc'GûLULZ6F!œ;lAy\"\n"
     ]
    }
   ],
   "source": [
    "print(\"Input: \\n\", repr(\"\".join(idx2char[input_example_batch[0]])))\n",
    "print()\n",
    "print(\"Next Char Predictions: \\n\", repr(\"\".join(idx2char[sampled_indices ])))"
   ]
  },
  {
   "cell_type": "markdown",
   "metadata": {
    "colab_type": "text",
    "id": "LJL0Q0YPY6Ee"
   },
   "source": [
    "## Entraîner le modèle"
   ]
  },
  {
   "cell_type": "markdown",
   "metadata": {
    "colab_type": "text",
    "id": "YCbHQHiaa4Ic"
   },
   "source": [
    "Maintenant, le problème est convenablement configuré et nous pouvons le traiter comme une classification normale. Donnant l'état précédente du RNN, et la donnée d'entrée pour le pas de temps actuel, prédire la classe de le prochain caractère."
   ]
  },
  {
   "cell_type": "markdown",
   "metadata": {
    "colab_type": "text",
    "id": "trpqTWyvk0nr"
   },
   "source": [
    "### Definir une loss function (fonction de perte), Compiler le modèle avec un optimizer (optimisateur) et la loss fonction."
   ]
  },
  {
   "cell_type": "markdown",
   "metadata": {
    "colab_type": "text",
    "id": "UAjbjY03eiQ4"
   },
   "source": [
    "Nous utiliserons la loss function `tf.keras.losses.sparse_categorical_crossentropy`"
   ]
  },
  {
   "cell_type": "code",
   "execution_count": 30,
   "metadata": {
    "colab": {},
    "colab_type": "code",
    "id": "4HrXTACTdzY-"
   },
   "outputs": [
    {
     "name": "stdout",
     "output_type": "stream",
     "text": [
      "Prediction shape:  (64, 100, 93)  # (batch_size, sequence_length, vocab_size)\n",
      "scalar_loss:       4.5331798\n"
     ]
    }
   ],
   "source": [
    "def loss(labels, logits):\n",
    "  return tf.keras.losses.sparse_categorical_crossentropy(labels, logits, from_logits=True)\n",
    "\n",
    "example_batch_loss  = loss(target_example_batch, example_batch_predictions)\n",
    "print(\"Prediction shape: \", example_batch_predictions.shape, \" # (batch_size, sequence_length, vocab_size)\")\n",
    "print(\"scalar_loss:      \", example_batch_loss.numpy().mean())"
   ]
  },
  {
   "cell_type": "markdown",
   "metadata": {
    "colab_type": "text",
    "id": "jeOXriLcymww"
   },
   "source": [
    "**Tâche 7** Compilez les paramètres de l'entraînement avec `tf.keras.Model.compile` . Nous emploierons juste deux paramètres, la méthode de réviser les parametres (optimizer) et la méthode pour calculer la fonction de perte (loss). L'optimizer recommandé est 'adam' (`tf.keras.optimizers.Adam`). L'optimisation d'Adam est une méthode de descente de gradient stochastique (stochastic gradient descent) basée sur une estimation adaptative des moments du premier et du second ordre. La fonction de perte est la fonction que vous avez créée et testée au-dessus. "
   ]
  },
  {
   "cell_type": "code",
   "execution_count": 31,
   "metadata": {
    "colab": {},
    "colab_type": "code",
    "id": "DDl1_Een6rL0"
   },
   "outputs": [],
   "source": [
    "model.compile(optimizer='adam', loss=loss)\n",
    "####### VOTRE CODE ICI #######"
   ]
  },
  {
   "cell_type": "markdown",
   "metadata": {
    "colab_type": "text",
    "id": "ieSJdchZggUj"
   },
   "source": [
    "### Configuer les checkpoints (pointes de contrôles)"
   ]
  },
  {
   "cell_type": "markdown",
   "metadata": {
    "colab_type": "text",
    "id": "C6XBUUavgF56"
   },
   "source": [
    "Nous allons sauvegarder les checkpoints (pointes de contrôle) pour chaque epoch avec les poids (weights) que le modèle a trouvé."
   ]
  },
  {
   "cell_type": "code",
   "execution_count": 32,
   "metadata": {
    "colab": {},
    "colab_type": "code",
    "id": "W6fWTriUZP-n"
   },
   "outputs": [],
   "source": [
    "# Dosser où les checkpoints seront sauvegardés\n",
    "checkpoint_dir = './training_checkpoints'\n",
    "# Nom de chaque fichier checkpoint\n",
    "checkpoint_prefix = os.path.join(checkpoint_dir, \"ckpt_{epoch}\")\n",
    "\n",
    "checkpoint_callback=tf.keras.callbacks.ModelCheckpoint(\n",
    "    filepath=checkpoint_prefix,\n",
    "    save_weights_only=True)"
   ]
  },
  {
   "cell_type": "markdown",
   "metadata": {
    "colab_type": "text",
    "id": "3Ky3F_BhgkTW"
   },
   "source": [
    "### Executer l'entraînement"
   ]
  },
  {
   "cell_type": "markdown",
   "metadata": {
    "colab_type": "text",
    "id": "IxdOA-rgyGvs"
   },
   "source": [
    "Commençons avec 10 époques pour l'entraînement. Nous pouvons choisir d'utiliser le GPU si nous faisons l'entraînement sur Colab pour raccourcir le temps. Sur mon ordinateur avec un Ryzen 5 chaque époque a pris 20 minutes, sur le GPU de Colab, 24 secondes. Le CPU de Colab (sans accéleration) a pris 16 minutes."
   ]
  },
  {
   "cell_type": "code",
   "execution_count": 33,
   "metadata": {
    "colab": {},
    "colab_type": "code",
    "id": "7yGBE2zxMMHs"
   },
   "outputs": [],
   "source": [
    "EPOCHS=30"
   ]
  },
  {
   "cell_type": "code",
   "execution_count": 33,
   "metadata": {
    "colab": {
     "base_uri": "https://localhost:8080/",
     "height": 1000
    },
    "colab_type": "code",
    "id": "UK-hmKjYVoll",
    "outputId": "e9714670-0989-4718-978d-6ea092b12845"
   },
   "outputs": [
    {
     "name": "stdout",
     "output_type": "stream",
     "text": [
      "Epoch 1/30\n",
      "223/223 [==============================] - 1244s 6s/step - loss: 2.3382\n",
      "Epoch 2/30\n",
      "223/223 [==============================] - 1255s 6s/step - loss: 1.5338\n",
      "Epoch 3/30\n",
      "223/223 [==============================] - 1256s 6s/step - loss: 1.2865\n",
      "Epoch 4/30\n",
      "223/223 [==============================] - 1255s 6s/step - loss: 1.1564\n",
      "Epoch 5/30\n",
      "223/223 [==============================] - 1252s 6s/step - loss: 1.0825\n",
      "Epoch 6/30\n",
      "223/223 [==============================] - 1240s 6s/step - loss: 1.0342\n",
      "Epoch 7/30\n",
      "223/223 [==============================] - 1231s 6s/step - loss: 0.9969\n",
      "Epoch 8/30\n",
      "223/223 [==============================] - 1224s 5s/step - loss: 0.9665\n",
      "Epoch 9/30\n",
      "223/223 [==============================] - 1218s 5s/step - loss: 0.9412\n",
      "Epoch 10/30\n",
      "223/223 [==============================] - 1236s 6s/step - loss: 0.9154\n",
      "Epoch 11/30\n",
      "223/223 [==============================] - 1245s 6s/step - loss: 0.8929\n",
      "Epoch 12/30\n",
      "223/223 [==============================] - 1243s 6s/step - loss: 0.8712\n",
      "Epoch 13/30\n",
      "223/223 [==============================] - 1249s 6s/step - loss: 0.8484\n",
      "Epoch 14/30\n",
      "223/223 [==============================] - 1236s 6s/step - loss: 0.8271\n",
      "Epoch 15/30\n",
      "223/223 [==============================] - 1250s 6s/step - loss: 0.8041\n",
      "Epoch 16/30\n",
      "223/223 [==============================] - 1249s 6s/step - loss: 0.7830\n",
      "Epoch 17/30\n",
      "223/223 [==============================] - 1219s 5s/step - loss: 0.7616\n",
      "Epoch 18/30\n",
      "223/223 [==============================] - 1233s 6s/step - loss: 0.7411\n",
      "Epoch 19/30\n",
      "223/223 [==============================] - 1218s 5s/step - loss: 0.7203\n",
      "Epoch 20/30\n",
      "223/223 [==============================] - 1245s 6s/step - loss: 0.7019\n",
      "Epoch 21/30\n",
      "223/223 [==============================] - 1238s 6s/step - loss: 0.6839\n",
      "Epoch 22/30\n",
      "223/223 [==============================] - 1234s 6s/step - loss: 0.6670\n",
      "Epoch 23/30\n",
      "223/223 [==============================] - 1235s 6s/step - loss: 0.6524\n",
      "Epoch 24/30\n",
      "223/223 [==============================] - 1250s 6s/step - loss: 0.6399\n",
      "Epoch 25/30\n",
      "223/223 [==============================] - 1219s 5s/step - loss: 0.6282\n",
      "Epoch 26/30\n",
      "223/223 [==============================] - 1205s 5s/step - loss: 0.6178\n",
      "Epoch 27/30\n",
      "223/223 [==============================] - 1234s 6s/step - loss: 0.6094\n",
      "Epoch 28/30\n",
      "223/223 [==============================] - 1259s 6s/step - loss: 0.6003\n",
      "Epoch 29/30\n",
      "223/223 [==============================] - 1210s 5s/step - loss: 0.5940\n",
      "Epoch 30/30\n",
      "223/223 [==============================] - 1196s 5s/step - loss: 0.5899\n"
     ]
    }
   ],
   "source": [
    "history = model.fit(dataset, epochs=EPOCHS, callbacks=[checkpoint_callback])"
   ]
  },
  {
   "cell_type": "markdown",
   "metadata": {
    "colab_type": "text",
    "id": "kKkD5M6eoSiN"
   },
   "source": [
    "## Génération du texte"
   ]
  },
  {
   "cell_type": "markdown",
   "metadata": {
    "colab_type": "text",
    "id": "JIPcXllKjkdr"
   },
   "source": [
    "### Restauer le dernier checkpoint (point de contrôle)"
   ]
  },
  {
   "cell_type": "markdown",
   "metadata": {
    "colab_type": "text",
    "id": "LyeYRiuVjodY"
   },
   "source": [
    "Pour l'inférence (utilisation d'un modèle entraîné pour les prévisions) nous pouvons traiter les données avec un taille de lot (_batch_size_) = 1. Mais, il faut reconstruire (_build_) le modèle avec la nouvelle _batch_size_. On a besoin juste de lui fournir les poids (_weights_) finals, pas besoin de répéter l'entraînement."
   ]
  },
  {
   "cell_type": "code",
   "execution_count": 34,
   "metadata": {
    "colab": {
     "base_uri": "https://localhost:8080/",
     "height": 34
    },
    "colab_type": "code",
    "id": "zk2WJ2-XjkGz",
    "outputId": "ae48cc88-e374-4831-962a-c1f230099596"
   },
   "outputs": [
    {
     "data": {
      "text/plain": [
       "'./training_checkpoints/ckpt_30'"
      ]
     },
     "execution_count": 34,
     "metadata": {
      "tags": []
     },
     "output_type": "execute_result"
    }
   ],
   "source": [
    "tf.train.latest_checkpoint(checkpoint_dir)"
   ]
  },
  {
   "cell_type": "code",
   "execution_count": 0,
   "metadata": {
    "colab": {},
    "colab_type": "code",
    "id": "LycQ-ot_jjyu"
   },
   "outputs": [],
   "source": [
    "model = build_model(vocab_size, embedding_dim, rnn_units, batch_size=1)\n",
    "\n",
    "model.load_weights(tf.train.latest_checkpoint(checkpoint_dir))\n",
    "\n",
    "model.build(tf.TensorShape([1, None]))"
   ]
  },
  {
   "cell_type": "code",
   "execution_count": 36,
   "metadata": {
    "colab": {
     "base_uri": "https://localhost:8080/",
     "height": 255
    },
    "colab_type": "code",
    "id": "71xa6jnYVrAN",
    "outputId": "2b160fb4-099b-40c7-a080-c46265194de2"
   },
   "outputs": [
    {
     "name": "stdout",
     "output_type": "stream",
     "text": [
      "Model: \"sequential_1\"\n",
      "_________________________________________________________________\n",
      "Layer (type)                 Output Shape              Param #   \n",
      "=================================================================\n",
      "embedding_1 (Embedding)      (1, None, 256)            23808     \n",
      "_________________________________________________________________\n",
      "gru_1 (GRU)                  (1, None, 1024)           3938304   \n",
      "_________________________________________________________________\n",
      "dense_1 (Dense)              (1, None, 93)             95325     \n",
      "=================================================================\n",
      "Total params: 4,057,437\n",
      "Trainable params: 4,057,437\n",
      "Non-trainable params: 0\n",
      "_________________________________________________________________\n"
     ]
    }
   ],
   "source": [
    "model.summary()"
   ]
  },
  {
   "cell_type": "markdown",
   "metadata": {
    "colab_type": "text",
    "id": "DjGz1tDkzf-u"
   },
   "source": [
    "### La boucle de prévision\n",
    "\n",
    "La boucle suivante de code générera le texte:\n",
    "\n",
    "* Initialisation: une chaîne de caractères de début, l'état du RNN et le nombre de caractères à générer.\n",
    "\n",
    "* Obtenez la distribution de prédiction du prochain caractère avec la chaîne de caractère de début et de l'état du RNN.\n",
    "\n",
    "* Ensuite, utilisez la distribution catégorique pour calculer l’indice du caractère prédit. Puis, utilisez ce caractère prédit comme la prochaine entrée dans le modèle.\n",
    "\n",
    "* L'état du RNN renvoyé par le modèle rentre encore dans le modèle afin qu'il ait maintenant plus de contexte, au lieu d'une seule caractère. Après avoir prédit le mot suivant, les états des RNN modifiés sont à nouveau rentrés dans le modèle, ainsi le modèle apprend au fur et à mesure qu'il récupère le contexte des mots prédits précédemment.\n",
    "\n",
    "En regardant le texte généré, vous verrez que le modèle sait faire les lettres majuscules, faire des paragraphes et imiter un vocabulaire d'écriture semblable à celui de Shakespeare. Avec le petit nombre d’époques de formation, il n’a pas encore appris à former des phrases cohérentes."
   ]
  },
  {
   "cell_type": "code",
   "execution_count": 0,
   "metadata": {
    "colab": {},
    "colab_type": "code",
    "id": "WvuwZBX5Ogfd"
   },
   "outputs": [],
   "source": [
    "def generate_text(model, start_string):\n",
    "# L'étape de l'evaluation (génération du text par un modèle entraîné)\n",
    "\n",
    "  # Nombre de caractères à générer\n",
    "  num_generate = 1200\n",
    "\n",
    "  # Convertir la chaîne de caractères de début aux nombres (vectorisation)\n",
    "  input_eval = [char2idx[s] for s in start_string]\n",
    "  input_eval = tf.expand_dims(input_eval, 0)\n",
    "\n",
    "  # Chaîne de caractères pour le résultat\n",
    "  text_generated = []\n",
    "\n",
    "  # Les températures basses donnent un texte plus prévisible.\n",
    "  # Des températures plus élevées produisent un texte plus surprenant.\n",
    "  # Faites des essais pour trouver le meilleur réglage.\n",
    "  temperature = 1.0\n",
    "\n",
    "  # batch size == 1\n",
    "  model.reset_states()\n",
    "  for i in range(num_generate):\n",
    "      predictions = model(input_eval)\n",
    "      # enlever une dimension batch (squeeze)\n",
    "      predictions = tf.squeeze(predictions, 0)\n",
    "\n",
    "      # on utilise la distribution catagorique pour prédire le texte renvoyé par le modèle\n",
    "      predictions = predictions / temperature\n",
    "      predicted_id = tf.random.categorical(predictions, num_samples=1)[-1,0].numpy()\n",
    "\n",
    "      # la lettre prédit est ajouté à la prochaine entrée du modèle  \n",
    "      input_eval = tf.expand_dims([predicted_id], 0)\n",
    "\n",
    "      text_generated.append(idx2char[predicted_id])\n",
    "\n",
    "  return (start_string + ''.join(text_generated))"
   ]
  },
  {
   "cell_type": "code",
   "execution_count": 43,
   "metadata": {
    "colab": {
     "base_uri": "https://localhost:8080/",
     "height": 734
    },
    "colab_type": "code",
    "id": "ktovv0RFhrkn",
    "outputId": "a4e67269-09b9-45cc-af85-50ae12b7675f"
   },
   "outputs": [
    {
     "name": "stdout",
     "output_type": "stream",
     "text": [
      "SCÈNE I.--CLITANDRE, ALCESTE.\r\n",
      "\r\n",
      "      CLÉANTE, à Mariane.\r\n",
      "\r\n",
      "      Oui; et j'attendois de votre ennui?\r\n",
      "      Et quel prince s'os languis j'aimerois bien vivre\r\n",
      "    Pour abis d'achever sur vous, ma biensi.\r\n",
      "\r\n",
      "      GEORGE DANDIN, à madame de\r\n",
      "    sa chère chez nous.\r\n",
      "\r\n",
      "      GEORGE DANDIN.\r\n",
      "\r\n",
      "      Eh! Ah! quelle\r\n",
      "  consulter ici.\r\n",
      "\r\n",
      "    LÉANDRE.\r\n",
      "\r\n",
      "    Monsieur, vont ai-je lieu de la  dessein étrange partie de votre mariage?\r\n",
      "\r\n",
      "    ARNOLPHE.\r\n",
      "\r\n",
      "                             Las!\r\n",
      "\r\n",
      "      SCÈNE V.--Il a souffert une comédie à vous voir dehors pour vous dise? On gréondre, je suis boi et mon amour dont je n'ai point langé de l'aMIERLOTTE, FRASTE, LA MONTAGNE.\r\n",
      "\r\n",
      "    ÉRASTE.\r\n",
      "\r\n",
      "    Il n'a des tiens d'ici, tu es cruelle,\r\n",
      "      Et qu'à moi, quelque espoir à tout cet espoir pourtant, emment comme de le déshonorer de ce que je sens; et,\r\n",
      "    suis-je savoir d'un amant à Molière, que vous voyez, croyant virge le mieux du monde,\r\n",
      "    Madame, enfin lans ce doit être vos personnages,\r\n",
      "    Et je l'aime pour patience.\r\n",
      "\r\n",
      "      LUBIN.\r\n",
      "\r\n",
      "      Oui. J'allations de ma colère, je tâche d'être content, et cherchons. (A Léandre.)DINCAS.\r\n",
      "\r\n",
      "  IPHITAS.\r\n",
      "\r\n",
      "  Sal raisonner fort contre vos tallez reçu des \n"
     ]
    }
   ],
   "source": [
    "print(generate_text(model, start_string=u\"S\"))"
   ]
  },
  {
   "cell_type": "markdown",
   "metadata": {
    "colab_type": "text",
    "id": "AM2Uma_-yVIq"
   },
   "source": [
    "**ESSAYER D'AMELIORER VOS RESULTATS**\n",
    "La méthode la plus facile à améliorer les résultats est d'augmenter le nombre d'époques d'entraînement (essayez `EPOCHS=30`).\n",
    "\n",
    "Vous pouvez également expérimenter avec une autre chaîne de caractères de départ ou essayer d'ajouter une autre couche RNN pour améliorer la précision du modèle ou d'ajuster le paramètre de température pour générer des prédictions plus ou moins aléatoires."
   ]
  }
 ],
 "metadata": {
  "accelerator": "GPU",
  "colab": {
   "collapsed_sections": [],
   "name": "génération_texte-Molière.ipynb",
   "provenance": [],
   "toc_visible": true
  },
  "kernelspec": {
   "display_name": "Python 3",
   "language": "python",
   "name": "python3"
  },
  "language_info": {
   "codemirror_mode": {
    "name": "ipython",
    "version": 3
   },
   "file_extension": ".py",
   "mimetype": "text/x-python",
   "name": "python",
   "nbconvert_exporter": "python",
   "pygments_lexer": "ipython3",
   "version": "3.7.3"
  }
 },
 "nbformat": 4,
 "nbformat_minor": 1
}
